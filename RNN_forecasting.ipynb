{
  "cells": [
    {
      "cell_type": "markdown",
      "metadata": {
        "id": "view-in-github",
        "colab_type": "text"
      },
      "source": [
        "<a href=\"https://colab.research.google.com/github/eildes06/Forecasting/blob/main/RNN_forecasting.ipynb\" target=\"_parent\"><img src=\"https://colab.research.google.com/assets/colab-badge.svg\" alt=\"Open In Colab\"/></a>"
      ]
    },
    {
      "cell_type": "code",
      "execution_count": null,
      "metadata": {
        "id": "DsnAK-2oriHu"
      },
      "outputs": [],
      "source": [
        "import warnings\n",
        "warnings.filterwarnings(\"ignore\")"
      ]
    },
    {
      "cell_type": "code",
      "execution_count": null,
      "metadata": {
        "id": "xCN6_pMBrlH0"
      },
      "outputs": [],
      "source": [
        "import pandas as pd\n",
        "import numpy as np\n",
        "import re\n",
        "from datetime import datetime\n",
        "## for plotting\n",
        "import matplotlib.pyplot as plt\n",
        "import seaborn as sns\n",
        "## for machine learning\n",
        "from sklearn import metrics, preprocessing\n",
        "## for deep learning\n",
        "from tensorflow.keras import models, layers, utils  #(2.6.0)"
      ]
    },
    {
      "cell_type": "code",
      "source": [
        "from google.colab import drive\n",
        "drive.mount('/content/drive')"
      ],
      "metadata": {
        "colab": {
          "base_uri": "https://localhost:8080/"
        },
        "id": "hUlCroUPP6f9",
        "outputId": "ccc5777c-48c6-429d-ef8f-b2c14327237d"
      },
      "execution_count": null,
      "outputs": [
        {
          "output_type": "stream",
          "name": "stdout",
          "text": [
            "Mounted at /content/drive\n"
          ]
        }
      ]
    },
    {
      "cell_type": "code",
      "execution_count": null,
      "metadata": {
        "colab": {
          "base_uri": "https://localhost:8080/",
          "height": 238
        },
        "id": "7xk9ZqKtlu74",
        "outputId": "7d353ae8-5764-400f-c389-d2f6efc9ecc0"
      },
      "outputs": [
        {
          "output_type": "execute_result",
          "data": {
            "text/plain": [
              "            Otomotiv Satis  OTV Orani     Faiz    EUR/TL  Kredi Stok\n",
              "Date                                                                \n",
              "2010-01-01         20095.0       37.0  13.1820  2.107385  341244.126\n",
              "2010-02-01         31172.0       37.0  13.2725  2.073890  351940.949\n",
              "2010-03-01         51769.0       37.0  12.7275  2.085522  361307.320\n",
              "2010-04-01         54946.0       37.0  12.0120  2.009010  373575.340\n",
              "2010-05-01         59377.0       37.0  11.7400  1.948870  387708.051"
            ],
            "text/html": [
              "\n",
              "  <div id=\"df-8bd35754-765c-403c-b6c3-d9c880466b30\">\n",
              "    <div class=\"colab-df-container\">\n",
              "      <div>\n",
              "<style scoped>\n",
              "    .dataframe tbody tr th:only-of-type {\n",
              "        vertical-align: middle;\n",
              "    }\n",
              "\n",
              "    .dataframe tbody tr th {\n",
              "        vertical-align: top;\n",
              "    }\n",
              "\n",
              "    .dataframe thead th {\n",
              "        text-align: right;\n",
              "    }\n",
              "</style>\n",
              "<table border=\"1\" class=\"dataframe\">\n",
              "  <thead>\n",
              "    <tr style=\"text-align: right;\">\n",
              "      <th></th>\n",
              "      <th>Otomotiv Satis</th>\n",
              "      <th>OTV Orani</th>\n",
              "      <th>Faiz</th>\n",
              "      <th>EUR/TL</th>\n",
              "      <th>Kredi Stok</th>\n",
              "    </tr>\n",
              "    <tr>\n",
              "      <th>Date</th>\n",
              "      <th></th>\n",
              "      <th></th>\n",
              "      <th></th>\n",
              "      <th></th>\n",
              "      <th></th>\n",
              "    </tr>\n",
              "  </thead>\n",
              "  <tbody>\n",
              "    <tr>\n",
              "      <th>2010-01-01</th>\n",
              "      <td>20095.0</td>\n",
              "      <td>37.0</td>\n",
              "      <td>13.1820</td>\n",
              "      <td>2.107385</td>\n",
              "      <td>341244.126</td>\n",
              "    </tr>\n",
              "    <tr>\n",
              "      <th>2010-02-01</th>\n",
              "      <td>31172.0</td>\n",
              "      <td>37.0</td>\n",
              "      <td>13.2725</td>\n",
              "      <td>2.073890</td>\n",
              "      <td>351940.949</td>\n",
              "    </tr>\n",
              "    <tr>\n",
              "      <th>2010-03-01</th>\n",
              "      <td>51769.0</td>\n",
              "      <td>37.0</td>\n",
              "      <td>12.7275</td>\n",
              "      <td>2.085522</td>\n",
              "      <td>361307.320</td>\n",
              "    </tr>\n",
              "    <tr>\n",
              "      <th>2010-04-01</th>\n",
              "      <td>54946.0</td>\n",
              "      <td>37.0</td>\n",
              "      <td>12.0120</td>\n",
              "      <td>2.009010</td>\n",
              "      <td>373575.340</td>\n",
              "    </tr>\n",
              "    <tr>\n",
              "      <th>2010-05-01</th>\n",
              "      <td>59377.0</td>\n",
              "      <td>37.0</td>\n",
              "      <td>11.7400</td>\n",
              "      <td>1.948870</td>\n",
              "      <td>387708.051</td>\n",
              "    </tr>\n",
              "  </tbody>\n",
              "</table>\n",
              "</div>\n",
              "      <button class=\"colab-df-convert\" onclick=\"convertToInteractive('df-8bd35754-765c-403c-b6c3-d9c880466b30')\"\n",
              "              title=\"Convert this dataframe to an interactive table.\"\n",
              "              style=\"display:none;\">\n",
              "        \n",
              "  <svg xmlns=\"http://www.w3.org/2000/svg\" height=\"24px\"viewBox=\"0 0 24 24\"\n",
              "       width=\"24px\">\n",
              "    <path d=\"M0 0h24v24H0V0z\" fill=\"none\"/>\n",
              "    <path d=\"M18.56 5.44l.94 2.06.94-2.06 2.06-.94-2.06-.94-.94-2.06-.94 2.06-2.06.94zm-11 1L8.5 8.5l.94-2.06 2.06-.94-2.06-.94L8.5 2.5l-.94 2.06-2.06.94zm10 10l.94 2.06.94-2.06 2.06-.94-2.06-.94-.94-2.06-.94 2.06-2.06.94z\"/><path d=\"M17.41 7.96l-1.37-1.37c-.4-.4-.92-.59-1.43-.59-.52 0-1.04.2-1.43.59L10.3 9.45l-7.72 7.72c-.78.78-.78 2.05 0 2.83L4 21.41c.39.39.9.59 1.41.59.51 0 1.02-.2 1.41-.59l7.78-7.78 2.81-2.81c.8-.78.8-2.07 0-2.86zM5.41 20L4 18.59l7.72-7.72 1.47 1.35L5.41 20z\"/>\n",
              "  </svg>\n",
              "      </button>\n",
              "      \n",
              "  <style>\n",
              "    .colab-df-container {\n",
              "      display:flex;\n",
              "      flex-wrap:wrap;\n",
              "      gap: 12px;\n",
              "    }\n",
              "\n",
              "    .colab-df-convert {\n",
              "      background-color: #E8F0FE;\n",
              "      border: none;\n",
              "      border-radius: 50%;\n",
              "      cursor: pointer;\n",
              "      display: none;\n",
              "      fill: #1967D2;\n",
              "      height: 32px;\n",
              "      padding: 0 0 0 0;\n",
              "      width: 32px;\n",
              "    }\n",
              "\n",
              "    .colab-df-convert:hover {\n",
              "      background-color: #E2EBFA;\n",
              "      box-shadow: 0px 1px 2px rgba(60, 64, 67, 0.3), 0px 1px 3px 1px rgba(60, 64, 67, 0.15);\n",
              "      fill: #174EA6;\n",
              "    }\n",
              "\n",
              "    [theme=dark] .colab-df-convert {\n",
              "      background-color: #3B4455;\n",
              "      fill: #D2E3FC;\n",
              "    }\n",
              "\n",
              "    [theme=dark] .colab-df-convert:hover {\n",
              "      background-color: #434B5C;\n",
              "      box-shadow: 0px 1px 3px 1px rgba(0, 0, 0, 0.15);\n",
              "      filter: drop-shadow(0px 1px 2px rgba(0, 0, 0, 0.3));\n",
              "      fill: #FFFFFF;\n",
              "    }\n",
              "  </style>\n",
              "\n",
              "      <script>\n",
              "        const buttonEl =\n",
              "          document.querySelector('#df-8bd35754-765c-403c-b6c3-d9c880466b30 button.colab-df-convert');\n",
              "        buttonEl.style.display =\n",
              "          google.colab.kernel.accessAllowed ? 'block' : 'none';\n",
              "\n",
              "        async function convertToInteractive(key) {\n",
              "          const element = document.querySelector('#df-8bd35754-765c-403c-b6c3-d9c880466b30');\n",
              "          const dataTable =\n",
              "            await google.colab.kernel.invokeFunction('convertToInteractive',\n",
              "                                                     [key], {});\n",
              "          if (!dataTable) return;\n",
              "\n",
              "          const docLinkHtml = 'Like what you see? Visit the ' +\n",
              "            '<a target=\"_blank\" href=https://colab.research.google.com/notebooks/data_table.ipynb>data table notebook</a>'\n",
              "            + ' to learn more about interactive tables.';\n",
              "          element.innerHTML = '';\n",
              "          dataTable['output_type'] = 'display_data';\n",
              "          await google.colab.output.renderOutput(dataTable, element);\n",
              "          const docLink = document.createElement('div');\n",
              "          docLink.innerHTML = docLinkHtml;\n",
              "          element.appendChild(docLink);\n",
              "        }\n",
              "      </script>\n",
              "    </div>\n",
              "  </div>\n",
              "  "
            ]
          },
          "metadata": {},
          "execution_count": 5
        }
      ],
      "source": [
        "dtf = pd.read_excel('/content/drive/MyDrive/Data/Veri-Seti.xlsx',index_col='Date', parse_dates = True)\n",
        "\n",
        "dtf.head()"
      ]
    },
    {
      "cell_type": "code",
      "execution_count": null,
      "metadata": {
        "colab": {
          "base_uri": "https://localhost:8080/",
          "height": 238
        },
        "id": "SFYnf4kGrk78",
        "outputId": "21c33b68-51af-46e8-e20b-6a5c7bf15bf2"
      },
      "outputs": [
        {
          "output_type": "execute_result",
          "data": {
            "text/plain": [
              "            Otomotiv Satis  OTV Orani  Faiz  EUR/TL  Kredi Stok\n",
              "Date                                                           \n",
              "2023-02-01             NaN        NaN   NaN     NaN         NaN\n",
              "2023-03-01             NaN        NaN   NaN     NaN         NaN\n",
              "2023-04-01             NaN        NaN   NaN     NaN         NaN\n",
              "2023-05-01             NaN        NaN   NaN     NaN         NaN\n",
              "2023-06-01             NaN        NaN   NaN     NaN         NaN"
            ],
            "text/html": [
              "\n",
              "  <div id=\"df-7c9d738b-a94d-44cc-9c3a-544c397db9ea\">\n",
              "    <div class=\"colab-df-container\">\n",
              "      <div>\n",
              "<style scoped>\n",
              "    .dataframe tbody tr th:only-of-type {\n",
              "        vertical-align: middle;\n",
              "    }\n",
              "\n",
              "    .dataframe tbody tr th {\n",
              "        vertical-align: top;\n",
              "    }\n",
              "\n",
              "    .dataframe thead th {\n",
              "        text-align: right;\n",
              "    }\n",
              "</style>\n",
              "<table border=\"1\" class=\"dataframe\">\n",
              "  <thead>\n",
              "    <tr style=\"text-align: right;\">\n",
              "      <th></th>\n",
              "      <th>Otomotiv Satis</th>\n",
              "      <th>OTV Orani</th>\n",
              "      <th>Faiz</th>\n",
              "      <th>EUR/TL</th>\n",
              "      <th>Kredi Stok</th>\n",
              "    </tr>\n",
              "    <tr>\n",
              "      <th>Date</th>\n",
              "      <th></th>\n",
              "      <th></th>\n",
              "      <th></th>\n",
              "      <th></th>\n",
              "      <th></th>\n",
              "    </tr>\n",
              "  </thead>\n",
              "  <tbody>\n",
              "    <tr>\n",
              "      <th>2023-02-01</th>\n",
              "      <td>NaN</td>\n",
              "      <td>NaN</td>\n",
              "      <td>NaN</td>\n",
              "      <td>NaN</td>\n",
              "      <td>NaN</td>\n",
              "    </tr>\n",
              "    <tr>\n",
              "      <th>2023-03-01</th>\n",
              "      <td>NaN</td>\n",
              "      <td>NaN</td>\n",
              "      <td>NaN</td>\n",
              "      <td>NaN</td>\n",
              "      <td>NaN</td>\n",
              "    </tr>\n",
              "    <tr>\n",
              "      <th>2023-04-01</th>\n",
              "      <td>NaN</td>\n",
              "      <td>NaN</td>\n",
              "      <td>NaN</td>\n",
              "      <td>NaN</td>\n",
              "      <td>NaN</td>\n",
              "    </tr>\n",
              "    <tr>\n",
              "      <th>2023-05-01</th>\n",
              "      <td>NaN</td>\n",
              "      <td>NaN</td>\n",
              "      <td>NaN</td>\n",
              "      <td>NaN</td>\n",
              "      <td>NaN</td>\n",
              "    </tr>\n",
              "    <tr>\n",
              "      <th>2023-06-01</th>\n",
              "      <td>NaN</td>\n",
              "      <td>NaN</td>\n",
              "      <td>NaN</td>\n",
              "      <td>NaN</td>\n",
              "      <td>NaN</td>\n",
              "    </tr>\n",
              "  </tbody>\n",
              "</table>\n",
              "</div>\n",
              "      <button class=\"colab-df-convert\" onclick=\"convertToInteractive('df-7c9d738b-a94d-44cc-9c3a-544c397db9ea')\"\n",
              "              title=\"Convert this dataframe to an interactive table.\"\n",
              "              style=\"display:none;\">\n",
              "        \n",
              "  <svg xmlns=\"http://www.w3.org/2000/svg\" height=\"24px\"viewBox=\"0 0 24 24\"\n",
              "       width=\"24px\">\n",
              "    <path d=\"M0 0h24v24H0V0z\" fill=\"none\"/>\n",
              "    <path d=\"M18.56 5.44l.94 2.06.94-2.06 2.06-.94-2.06-.94-.94-2.06-.94 2.06-2.06.94zm-11 1L8.5 8.5l.94-2.06 2.06-.94-2.06-.94L8.5 2.5l-.94 2.06-2.06.94zm10 10l.94 2.06.94-2.06 2.06-.94-2.06-.94-.94-2.06-.94 2.06-2.06.94z\"/><path d=\"M17.41 7.96l-1.37-1.37c-.4-.4-.92-.59-1.43-.59-.52 0-1.04.2-1.43.59L10.3 9.45l-7.72 7.72c-.78.78-.78 2.05 0 2.83L4 21.41c.39.39.9.59 1.41.59.51 0 1.02-.2 1.41-.59l7.78-7.78 2.81-2.81c.8-.78.8-2.07 0-2.86zM5.41 20L4 18.59l7.72-7.72 1.47 1.35L5.41 20z\"/>\n",
              "  </svg>\n",
              "      </button>\n",
              "      \n",
              "  <style>\n",
              "    .colab-df-container {\n",
              "      display:flex;\n",
              "      flex-wrap:wrap;\n",
              "      gap: 12px;\n",
              "    }\n",
              "\n",
              "    .colab-df-convert {\n",
              "      background-color: #E8F0FE;\n",
              "      border: none;\n",
              "      border-radius: 50%;\n",
              "      cursor: pointer;\n",
              "      display: none;\n",
              "      fill: #1967D2;\n",
              "      height: 32px;\n",
              "      padding: 0 0 0 0;\n",
              "      width: 32px;\n",
              "    }\n",
              "\n",
              "    .colab-df-convert:hover {\n",
              "      background-color: #E2EBFA;\n",
              "      box-shadow: 0px 1px 2px rgba(60, 64, 67, 0.3), 0px 1px 3px 1px rgba(60, 64, 67, 0.15);\n",
              "      fill: #174EA6;\n",
              "    }\n",
              "\n",
              "    [theme=dark] .colab-df-convert {\n",
              "      background-color: #3B4455;\n",
              "      fill: #D2E3FC;\n",
              "    }\n",
              "\n",
              "    [theme=dark] .colab-df-convert:hover {\n",
              "      background-color: #434B5C;\n",
              "      box-shadow: 0px 1px 3px 1px rgba(0, 0, 0, 0.15);\n",
              "      filter: drop-shadow(0px 1px 2px rgba(0, 0, 0, 0.3));\n",
              "      fill: #FFFFFF;\n",
              "    }\n",
              "  </style>\n",
              "\n",
              "      <script>\n",
              "        const buttonEl =\n",
              "          document.querySelector('#df-7c9d738b-a94d-44cc-9c3a-544c397db9ea button.colab-df-convert');\n",
              "        buttonEl.style.display =\n",
              "          google.colab.kernel.accessAllowed ? 'block' : 'none';\n",
              "\n",
              "        async function convertToInteractive(key) {\n",
              "          const element = document.querySelector('#df-7c9d738b-a94d-44cc-9c3a-544c397db9ea');\n",
              "          const dataTable =\n",
              "            await google.colab.kernel.invokeFunction('convertToInteractive',\n",
              "                                                     [key], {});\n",
              "          if (!dataTable) return;\n",
              "\n",
              "          const docLinkHtml = 'Like what you see? Visit the ' +\n",
              "            '<a target=\"_blank\" href=https://colab.research.google.com/notebooks/data_table.ipynb>data table notebook</a>'\n",
              "            + ' to learn more about interactive tables.';\n",
              "          element.innerHTML = '';\n",
              "          dataTable['output_type'] = 'display_data';\n",
              "          await google.colab.output.renderOutput(dataTable, element);\n",
              "          const docLink = document.createElement('div');\n",
              "          docLink.innerHTML = docLinkHtml;\n",
              "          element.appendChild(docLink);\n",
              "        }\n",
              "      </script>\n",
              "    </div>\n",
              "  </div>\n",
              "  "
            ]
          },
          "metadata": {},
          "execution_count": 6
        }
      ],
      "source": [
        "dtf.tail()"
      ]
    },
    {
      "cell_type": "code",
      "execution_count": null,
      "metadata": {
        "colab": {
          "base_uri": "https://localhost:8080/",
          "height": 238
        },
        "id": "fESV0hsgsMiZ",
        "outputId": "e92c3103-7b51-4744-e9fa-9ae456fa70d7"
      },
      "outputs": [
        {
          "output_type": "execute_result",
          "data": {
            "text/plain": [
              "            Otomotiv Satis  OTV Orani     Faiz    EUR/TL  Kredi Stok\n",
              "Date                                                                \n",
              "2010-01-01         20095.0       37.0  13.1820  2.107385  341244.126\n",
              "2010-02-01         31172.0       37.0  13.2725  2.073890  351940.949\n",
              "2010-03-01         51769.0       37.0  12.7275  2.085522  361307.320\n",
              "2010-04-01         54946.0       37.0  12.0120  2.009010  373575.340\n",
              "2010-05-01         59377.0       37.0  11.7400  1.948870  387708.051"
            ],
            "text/html": [
              "\n",
              "  <div id=\"df-23064bb0-88b8-4c8d-9be0-bb836b0d3199\">\n",
              "    <div class=\"colab-df-container\">\n",
              "      <div>\n",
              "<style scoped>\n",
              "    .dataframe tbody tr th:only-of-type {\n",
              "        vertical-align: middle;\n",
              "    }\n",
              "\n",
              "    .dataframe tbody tr th {\n",
              "        vertical-align: top;\n",
              "    }\n",
              "\n",
              "    .dataframe thead th {\n",
              "        text-align: right;\n",
              "    }\n",
              "</style>\n",
              "<table border=\"1\" class=\"dataframe\">\n",
              "  <thead>\n",
              "    <tr style=\"text-align: right;\">\n",
              "      <th></th>\n",
              "      <th>Otomotiv Satis</th>\n",
              "      <th>OTV Orani</th>\n",
              "      <th>Faiz</th>\n",
              "      <th>EUR/TL</th>\n",
              "      <th>Kredi Stok</th>\n",
              "    </tr>\n",
              "    <tr>\n",
              "      <th>Date</th>\n",
              "      <th></th>\n",
              "      <th></th>\n",
              "      <th></th>\n",
              "      <th></th>\n",
              "      <th></th>\n",
              "    </tr>\n",
              "  </thead>\n",
              "  <tbody>\n",
              "    <tr>\n",
              "      <th>2010-01-01</th>\n",
              "      <td>20095.0</td>\n",
              "      <td>37.0</td>\n",
              "      <td>13.1820</td>\n",
              "      <td>2.107385</td>\n",
              "      <td>341244.126</td>\n",
              "    </tr>\n",
              "    <tr>\n",
              "      <th>2010-02-01</th>\n",
              "      <td>31172.0</td>\n",
              "      <td>37.0</td>\n",
              "      <td>13.2725</td>\n",
              "      <td>2.073890</td>\n",
              "      <td>351940.949</td>\n",
              "    </tr>\n",
              "    <tr>\n",
              "      <th>2010-03-01</th>\n",
              "      <td>51769.0</td>\n",
              "      <td>37.0</td>\n",
              "      <td>12.7275</td>\n",
              "      <td>2.085522</td>\n",
              "      <td>361307.320</td>\n",
              "    </tr>\n",
              "    <tr>\n",
              "      <th>2010-04-01</th>\n",
              "      <td>54946.0</td>\n",
              "      <td>37.0</td>\n",
              "      <td>12.0120</td>\n",
              "      <td>2.009010</td>\n",
              "      <td>373575.340</td>\n",
              "    </tr>\n",
              "    <tr>\n",
              "      <th>2010-05-01</th>\n",
              "      <td>59377.0</td>\n",
              "      <td>37.0</td>\n",
              "      <td>11.7400</td>\n",
              "      <td>1.948870</td>\n",
              "      <td>387708.051</td>\n",
              "    </tr>\n",
              "  </tbody>\n",
              "</table>\n",
              "</div>\n",
              "      <button class=\"colab-df-convert\" onclick=\"convertToInteractive('df-23064bb0-88b8-4c8d-9be0-bb836b0d3199')\"\n",
              "              title=\"Convert this dataframe to an interactive table.\"\n",
              "              style=\"display:none;\">\n",
              "        \n",
              "  <svg xmlns=\"http://www.w3.org/2000/svg\" height=\"24px\"viewBox=\"0 0 24 24\"\n",
              "       width=\"24px\">\n",
              "    <path d=\"M0 0h24v24H0V0z\" fill=\"none\"/>\n",
              "    <path d=\"M18.56 5.44l.94 2.06.94-2.06 2.06-.94-2.06-.94-.94-2.06-.94 2.06-2.06.94zm-11 1L8.5 8.5l.94-2.06 2.06-.94-2.06-.94L8.5 2.5l-.94 2.06-2.06.94zm10 10l.94 2.06.94-2.06 2.06-.94-2.06-.94-.94-2.06-.94 2.06-2.06.94z\"/><path d=\"M17.41 7.96l-1.37-1.37c-.4-.4-.92-.59-1.43-.59-.52 0-1.04.2-1.43.59L10.3 9.45l-7.72 7.72c-.78.78-.78 2.05 0 2.83L4 21.41c.39.39.9.59 1.41.59.51 0 1.02-.2 1.41-.59l7.78-7.78 2.81-2.81c.8-.78.8-2.07 0-2.86zM5.41 20L4 18.59l7.72-7.72 1.47 1.35L5.41 20z\"/>\n",
              "  </svg>\n",
              "      </button>\n",
              "      \n",
              "  <style>\n",
              "    .colab-df-container {\n",
              "      display:flex;\n",
              "      flex-wrap:wrap;\n",
              "      gap: 12px;\n",
              "    }\n",
              "\n",
              "    .colab-df-convert {\n",
              "      background-color: #E8F0FE;\n",
              "      border: none;\n",
              "      border-radius: 50%;\n",
              "      cursor: pointer;\n",
              "      display: none;\n",
              "      fill: #1967D2;\n",
              "      height: 32px;\n",
              "      padding: 0 0 0 0;\n",
              "      width: 32px;\n",
              "    }\n",
              "\n",
              "    .colab-df-convert:hover {\n",
              "      background-color: #E2EBFA;\n",
              "      box-shadow: 0px 1px 2px rgba(60, 64, 67, 0.3), 0px 1px 3px 1px rgba(60, 64, 67, 0.15);\n",
              "      fill: #174EA6;\n",
              "    }\n",
              "\n",
              "    [theme=dark] .colab-df-convert {\n",
              "      background-color: #3B4455;\n",
              "      fill: #D2E3FC;\n",
              "    }\n",
              "\n",
              "    [theme=dark] .colab-df-convert:hover {\n",
              "      background-color: #434B5C;\n",
              "      box-shadow: 0px 1px 3px 1px rgba(0, 0, 0, 0.15);\n",
              "      filter: drop-shadow(0px 1px 2px rgba(0, 0, 0, 0.3));\n",
              "      fill: #FFFFFF;\n",
              "    }\n",
              "  </style>\n",
              "\n",
              "      <script>\n",
              "        const buttonEl =\n",
              "          document.querySelector('#df-23064bb0-88b8-4c8d-9be0-bb836b0d3199 button.colab-df-convert');\n",
              "        buttonEl.style.display =\n",
              "          google.colab.kernel.accessAllowed ? 'block' : 'none';\n",
              "\n",
              "        async function convertToInteractive(key) {\n",
              "          const element = document.querySelector('#df-23064bb0-88b8-4c8d-9be0-bb836b0d3199');\n",
              "          const dataTable =\n",
              "            await google.colab.kernel.invokeFunction('convertToInteractive',\n",
              "                                                     [key], {});\n",
              "          if (!dataTable) return;\n",
              "\n",
              "          const docLinkHtml = 'Like what you see? Visit the ' +\n",
              "            '<a target=\"_blank\" href=https://colab.research.google.com/notebooks/data_table.ipynb>data table notebook</a>'\n",
              "            + ' to learn more about interactive tables.';\n",
              "          element.innerHTML = '';\n",
              "          dataTable['output_type'] = 'display_data';\n",
              "          await google.colab.output.renderOutput(dataTable, element);\n",
              "          const docLink = document.createElement('div');\n",
              "          docLink.innerHTML = docLinkHtml;\n",
              "          element.appendChild(docLink);\n",
              "        }\n",
              "      </script>\n",
              "    </div>\n",
              "  </div>\n",
              "  "
            ]
          },
          "metadata": {},
          "execution_count": 7
        }
      ],
      "source": [
        "dtf.head()"
      ]
    },
    {
      "cell_type": "code",
      "execution_count": null,
      "metadata": {
        "id": "DVDrMny2gXkP"
      },
      "outputs": [],
      "source": [
        " dtf.dropna(inplace= True)"
      ]
    },
    {
      "cell_type": "code",
      "execution_count": null,
      "metadata": {
        "colab": {
          "base_uri": "https://localhost:8080/"
        },
        "id": "N7RBbBD0sOC_",
        "outputId": "50363c26-4cfd-4c5f-a56a-fff2bf2aebd8"
      },
      "outputs": [
        {
          "output_type": "execute_result",
          "data": {
            "text/plain": [
              "(149, 5)"
            ]
          },
          "metadata": {},
          "execution_count": 9
        }
      ],
      "source": [
        "dtf.shape"
      ]
    },
    {
      "cell_type": "code",
      "execution_count": null,
      "metadata": {
        "colab": {
          "base_uri": "https://localhost:8080/"
        },
        "id": "eOJthHC5sdip",
        "outputId": "05284961-8b16-4bda-f8df-8b9576e66857"
      },
      "outputs": [
        {
          "output_type": "execute_result",
          "data": {
            "text/plain": [
              "0"
            ]
          },
          "metadata": {},
          "execution_count": 10
        }
      ],
      "source": [
        "dtf.duplicated().sum()"
      ]
    },
    {
      "cell_type": "code",
      "execution_count": null,
      "metadata": {
        "colab": {
          "base_uri": "https://localhost:8080/"
        },
        "id": "bCcXPWXOsdfl",
        "outputId": "1e2c270e-1c46-4272-a638-15717aa127d8"
      },
      "outputs": [
        {
          "output_type": "execute_result",
          "data": {
            "text/plain": [
              "Otomotiv Satis    0\n",
              "OTV Orani         0\n",
              "Faiz              0\n",
              "EUR/TL            0\n",
              "Kredi Stok        0\n",
              "dtype: int64"
            ]
          },
          "metadata": {},
          "execution_count": 11
        }
      ],
      "source": [
        "dtf.isnull().sum()"
      ]
    },
    {
      "cell_type": "code",
      "execution_count": null,
      "metadata": {
        "colab": {
          "base_uri": "https://localhost:8080/"
        },
        "id": "7OgMazsKsdcY",
        "outputId": "254e8d5a-88e4-4576-8fcc-ff84f18c9af3"
      },
      "outputs": [
        {
          "output_type": "stream",
          "name": "stdout",
          "text": [
            "<class 'pandas.core.frame.DataFrame'>\n",
            "DatetimeIndex: 149 entries, 2010-01-01 to 2022-05-01\n",
            "Data columns (total 5 columns):\n",
            " #   Column          Non-Null Count  Dtype  \n",
            "---  ------          --------------  -----  \n",
            " 0   Otomotiv Satis  149 non-null    float64\n",
            " 1   OTV Orani       149 non-null    float64\n",
            " 2   Faiz            149 non-null    float64\n",
            " 3   EUR/TL          149 non-null    float64\n",
            " 4   Kredi Stok      149 non-null    float64\n",
            "dtypes: float64(5)\n",
            "memory usage: 7.0 KB\n"
          ]
        }
      ],
      "source": [
        "dtf.info()"
      ]
    },
    {
      "cell_type": "code",
      "execution_count": null,
      "metadata": {
        "id": "HI-wZ2Jps8Do"
      },
      "outputs": [],
      "source": [
        "# dtf.Date.value_counts().sort_values()"
      ]
    },
    {
      "cell_type": "code",
      "execution_count": null,
      "metadata": {
        "colab": {
          "base_uri": "https://localhost:8080/"
        },
        "id": "MvME9kncs8At",
        "outputId": "31cda184-be0a-443d-b64a-cd033cffc089"
      },
      "outputs": [
        {
          "output_type": "execute_result",
          "data": {
            "text/plain": [
              "20095.0    1\n",
              "81573.0    1\n",
              "51769.0    1\n",
              "54946.0    1\n",
              "59377.0    1\n",
              "          ..\n",
              "62243.0    1\n",
              "38131.0    1\n",
              "49652.0    1\n",
              "60035.0    1\n",
              "65167.0    1\n",
              "Name: Otomotiv Satis, Length: 149, dtype: int64"
            ]
          },
          "metadata": {},
          "execution_count": 14
        }
      ],
      "source": [
        "dtf[\"Otomotiv Satis\"].value_counts().sort_values()"
      ]
    },
    {
      "cell_type": "code",
      "execution_count": null,
      "metadata": {
        "colab": {
          "base_uri": "https://localhost:8080/"
        },
        "id": "7AWm9w6ks79p",
        "outputId": "a3e72cb0-ff1d-4413-a3b8-512a27073cb9"
      },
      "outputs": [
        {
          "output_type": "execute_result",
          "data": {
            "text/plain": [
              "16.8175    1\n",
              "11.0125    1\n",
              "10.7875    1\n",
              "12.7275    1\n",
              "12.0120    1\n",
              "          ..\n",
              "26.8525    1\n",
              "21.7950    1\n",
              "13.1200    2\n",
              "12.8400    2\n",
              "15.2100    2\n",
              "Name: Faiz, Length: 146, dtype: int64"
            ]
          },
          "metadata": {},
          "execution_count": 15
        }
      ],
      "source": [
        "dtf[\"Faiz\"].value_counts().sort_values()"
      ]
    },
    {
      "cell_type": "code",
      "execution_count": null,
      "metadata": {
        "colab": {
          "base_uri": "https://localhost:8080/",
          "height": 206
        },
        "id": "EqCfGLzRs76S",
        "outputId": "2688367a-56fe-47d6-a2dd-e7b96f43300e"
      },
      "outputs": [
        {
          "output_type": "execute_result",
          "data": {
            "text/plain": [
              "                count          mean           std            min  \\\n",
              "Otomotiv Satis  149.0  6.590262e+04  2.617580e+04   14373.000000   \n",
              "OTV Orani       149.0  4.369799e+01  5.846811e+00      37.000000   \n",
              "Faiz            149.0  1.603438e+01  5.319518e+00       9.607500   \n",
              "EUR/TL          149.0  4.808703e+00  3.321767e+00       1.927305   \n",
              "Kredi Stok      149.0  1.787554e+06  1.176366e+06  341244.126000   \n",
              "\n",
              "                          25%           50%           75%           max  \n",
              "Otomotiv Satis   50008.000000  6.304400e+04  7.981900e+04  1.561730e+05  \n",
              "OTV Orani           40.000000  4.500000e+01  5.000000e+01  6.500000e+01  \n",
              "Faiz                12.715000  1.448500e+01  1.747500e+01  3.278250e+01  \n",
              "EUR/TL               2.464018  3.276861e+00  6.380609e+00  1.656000e+01  \n",
              "Kredi Stok      775545.498000  1.474594e+06  2.447479e+06  4.862887e+06  "
            ],
            "text/html": [
              "\n",
              "  <div id=\"df-f2815684-deef-4fc9-bd0b-4bacbbff0d7f\">\n",
              "    <div class=\"colab-df-container\">\n",
              "      <div>\n",
              "<style scoped>\n",
              "    .dataframe tbody tr th:only-of-type {\n",
              "        vertical-align: middle;\n",
              "    }\n",
              "\n",
              "    .dataframe tbody tr th {\n",
              "        vertical-align: top;\n",
              "    }\n",
              "\n",
              "    .dataframe thead th {\n",
              "        text-align: right;\n",
              "    }\n",
              "</style>\n",
              "<table border=\"1\" class=\"dataframe\">\n",
              "  <thead>\n",
              "    <tr style=\"text-align: right;\">\n",
              "      <th></th>\n",
              "      <th>count</th>\n",
              "      <th>mean</th>\n",
              "      <th>std</th>\n",
              "      <th>min</th>\n",
              "      <th>25%</th>\n",
              "      <th>50%</th>\n",
              "      <th>75%</th>\n",
              "      <th>max</th>\n",
              "    </tr>\n",
              "  </thead>\n",
              "  <tbody>\n",
              "    <tr>\n",
              "      <th>Otomotiv Satis</th>\n",
              "      <td>149.0</td>\n",
              "      <td>6.590262e+04</td>\n",
              "      <td>2.617580e+04</td>\n",
              "      <td>14373.000000</td>\n",
              "      <td>50008.000000</td>\n",
              "      <td>6.304400e+04</td>\n",
              "      <td>7.981900e+04</td>\n",
              "      <td>1.561730e+05</td>\n",
              "    </tr>\n",
              "    <tr>\n",
              "      <th>OTV Orani</th>\n",
              "      <td>149.0</td>\n",
              "      <td>4.369799e+01</td>\n",
              "      <td>5.846811e+00</td>\n",
              "      <td>37.000000</td>\n",
              "      <td>40.000000</td>\n",
              "      <td>4.500000e+01</td>\n",
              "      <td>5.000000e+01</td>\n",
              "      <td>6.500000e+01</td>\n",
              "    </tr>\n",
              "    <tr>\n",
              "      <th>Faiz</th>\n",
              "      <td>149.0</td>\n",
              "      <td>1.603438e+01</td>\n",
              "      <td>5.319518e+00</td>\n",
              "      <td>9.607500</td>\n",
              "      <td>12.715000</td>\n",
              "      <td>1.448500e+01</td>\n",
              "      <td>1.747500e+01</td>\n",
              "      <td>3.278250e+01</td>\n",
              "    </tr>\n",
              "    <tr>\n",
              "      <th>EUR/TL</th>\n",
              "      <td>149.0</td>\n",
              "      <td>4.808703e+00</td>\n",
              "      <td>3.321767e+00</td>\n",
              "      <td>1.927305</td>\n",
              "      <td>2.464018</td>\n",
              "      <td>3.276861e+00</td>\n",
              "      <td>6.380609e+00</td>\n",
              "      <td>1.656000e+01</td>\n",
              "    </tr>\n",
              "    <tr>\n",
              "      <th>Kredi Stok</th>\n",
              "      <td>149.0</td>\n",
              "      <td>1.787554e+06</td>\n",
              "      <td>1.176366e+06</td>\n",
              "      <td>341244.126000</td>\n",
              "      <td>775545.498000</td>\n",
              "      <td>1.474594e+06</td>\n",
              "      <td>2.447479e+06</td>\n",
              "      <td>4.862887e+06</td>\n",
              "    </tr>\n",
              "  </tbody>\n",
              "</table>\n",
              "</div>\n",
              "      <button class=\"colab-df-convert\" onclick=\"convertToInteractive('df-f2815684-deef-4fc9-bd0b-4bacbbff0d7f')\"\n",
              "              title=\"Convert this dataframe to an interactive table.\"\n",
              "              style=\"display:none;\">\n",
              "        \n",
              "  <svg xmlns=\"http://www.w3.org/2000/svg\" height=\"24px\"viewBox=\"0 0 24 24\"\n",
              "       width=\"24px\">\n",
              "    <path d=\"M0 0h24v24H0V0z\" fill=\"none\"/>\n",
              "    <path d=\"M18.56 5.44l.94 2.06.94-2.06 2.06-.94-2.06-.94-.94-2.06-.94 2.06-2.06.94zm-11 1L8.5 8.5l.94-2.06 2.06-.94-2.06-.94L8.5 2.5l-.94 2.06-2.06.94zm10 10l.94 2.06.94-2.06 2.06-.94-2.06-.94-.94-2.06-.94 2.06-2.06.94z\"/><path d=\"M17.41 7.96l-1.37-1.37c-.4-.4-.92-.59-1.43-.59-.52 0-1.04.2-1.43.59L10.3 9.45l-7.72 7.72c-.78.78-.78 2.05 0 2.83L4 21.41c.39.39.9.59 1.41.59.51 0 1.02-.2 1.41-.59l7.78-7.78 2.81-2.81c.8-.78.8-2.07 0-2.86zM5.41 20L4 18.59l7.72-7.72 1.47 1.35L5.41 20z\"/>\n",
              "  </svg>\n",
              "      </button>\n",
              "      \n",
              "  <style>\n",
              "    .colab-df-container {\n",
              "      display:flex;\n",
              "      flex-wrap:wrap;\n",
              "      gap: 12px;\n",
              "    }\n",
              "\n",
              "    .colab-df-convert {\n",
              "      background-color: #E8F0FE;\n",
              "      border: none;\n",
              "      border-radius: 50%;\n",
              "      cursor: pointer;\n",
              "      display: none;\n",
              "      fill: #1967D2;\n",
              "      height: 32px;\n",
              "      padding: 0 0 0 0;\n",
              "      width: 32px;\n",
              "    }\n",
              "\n",
              "    .colab-df-convert:hover {\n",
              "      background-color: #E2EBFA;\n",
              "      box-shadow: 0px 1px 2px rgba(60, 64, 67, 0.3), 0px 1px 3px 1px rgba(60, 64, 67, 0.15);\n",
              "      fill: #174EA6;\n",
              "    }\n",
              "\n",
              "    [theme=dark] .colab-df-convert {\n",
              "      background-color: #3B4455;\n",
              "      fill: #D2E3FC;\n",
              "    }\n",
              "\n",
              "    [theme=dark] .colab-df-convert:hover {\n",
              "      background-color: #434B5C;\n",
              "      box-shadow: 0px 1px 3px 1px rgba(0, 0, 0, 0.15);\n",
              "      filter: drop-shadow(0px 1px 2px rgba(0, 0, 0, 0.3));\n",
              "      fill: #FFFFFF;\n",
              "    }\n",
              "  </style>\n",
              "\n",
              "      <script>\n",
              "        const buttonEl =\n",
              "          document.querySelector('#df-f2815684-deef-4fc9-bd0b-4bacbbff0d7f button.colab-df-convert');\n",
              "        buttonEl.style.display =\n",
              "          google.colab.kernel.accessAllowed ? 'block' : 'none';\n",
              "\n",
              "        async function convertToInteractive(key) {\n",
              "          const element = document.querySelector('#df-f2815684-deef-4fc9-bd0b-4bacbbff0d7f');\n",
              "          const dataTable =\n",
              "            await google.colab.kernel.invokeFunction('convertToInteractive',\n",
              "                                                     [key], {});\n",
              "          if (!dataTable) return;\n",
              "\n",
              "          const docLinkHtml = 'Like what you see? Visit the ' +\n",
              "            '<a target=\"_blank\" href=https://colab.research.google.com/notebooks/data_table.ipynb>data table notebook</a>'\n",
              "            + ' to learn more about interactive tables.';\n",
              "          element.innerHTML = '';\n",
              "          dataTable['output_type'] = 'display_data';\n",
              "          await google.colab.output.renderOutput(dataTable, element);\n",
              "          const docLink = document.createElement('div');\n",
              "          docLink.innerHTML = docLinkHtml;\n",
              "          element.appendChild(docLink);\n",
              "        }\n",
              "      </script>\n",
              "    </div>\n",
              "  </div>\n",
              "  "
            ]
          },
          "metadata": {},
          "execution_count": 16
        }
      ],
      "source": [
        "dtf.describe().T"
      ]
    },
    {
      "cell_type": "code",
      "execution_count": null,
      "metadata": {
        "colab": {
          "base_uri": "https://localhost:8080/",
          "height": 867
        },
        "id": "hfpojb3QsdYh",
        "outputId": "45dc40ce-5e84-4307-feb8-15db99e519bb"
      },
      "outputs": [
        {
          "output_type": "display_data",
          "data": {
            "text/plain": [
              "<Figure size 1440x1080 with 2 Axes>"
            ],
            "image/png": "[encoded data removed]"
          },
          "metadata": {
            "needs_background": "light"
          }
        }
      ],
      "source": [
        "plt.figure(figsize=(20,15))\n",
        "sns.heatmap(dtf.corr(), annot=True);"
      ]
    },
    {
      "cell_type": "code",
      "execution_count": null,
      "metadata": {
        "colab": {
          "base_uri": "https://localhost:8080/",
          "height": 1000
        },
        "id": "qH-cTJSqumni",
        "outputId": "7d39b1b9-663e-49eb-b454-c06c9c90982c"
      },
      "outputs": [
        {
          "output_type": "display_data",
          "data": {
            "text/plain": [
              "<Figure size 1440x1440 with 4 Axes>"
            ],
            "image/png": "[encoded data removed]"
          },
          "metadata": {
            "needs_background": "light"
          }
        }
      ],
      "source": [
        "index = 0\n",
        "plt.figure(figsize=(20,20))\n",
        "for feature in dtf:\n",
        "    if feature != \"Otomotiv Satis\":\n",
        "        index += 1\n",
        "        plt.subplot(2, 3, index)\n",
        "        sns.boxplot(x=feature, y=\"Otomotiv Satis\", data=dtf)"
      ]
    },
    {
      "cell_type": "code",
      "execution_count": null,
      "metadata": {
        "id": "xYiVZltMumkV"
      },
      "outputs": [],
      "source": []
    },
    {
      "cell_type": "code",
      "execution_count": null,
      "metadata": {
        "colab": {
          "base_uri": "https://localhost:8080/",
          "height": 334
        },
        "id": "BCwaSLqeumg4",
        "outputId": "6fb85c95-64bf-4e3f-bb3c-249caeece0ac"
      },
      "outputs": [
        {
          "output_type": "display_data",
          "data": {
            "text/plain": [
              "<Figure size 1080x360 with 1 Axes>"
            ],
            "image/png": "[encoded data removed]"
          },
          "metadata": {
            "needs_background": "light"
          }
        }
      ],
      "source": [
        "plt.figure(figsize=(15,5))\n",
        "sns.lineplot(dtf.index, \"Otomotiv Satis\", data=dtf);"
      ]
    },
    {
      "cell_type": "code",
      "execution_count": null,
      "metadata": {
        "colab": {
          "base_uri": "https://localhost:8080/",
          "height": 334
        },
        "id": "2GGWbVcgvPQW",
        "outputId": "45c43edd-6f6e-4356-895f-08eed68c1f2e"
      },
      "outputs": [
        {
          "output_type": "display_data",
          "data": {
            "text/plain": [
              "<Figure size 1080x360 with 1 Axes>"
            ],
            "image/png": "[encoded data removed]"
          },
          "metadata": {
            "needs_background": "light"
          }
        }
      ],
      "source": [
        "date_cnt = dtf.groupby(\"Date\")[\"Otomotiv Satis\"].sum()\n",
        "plt.figure(figsize=(15,5))\n",
        "sns.lineplot(date_cnt.index, date_cnt.values);"
      ]
    },
    {
      "cell_type": "code",
      "execution_count": null,
      "metadata": {
        "id": "7Mr8jRH59HrT"
      },
      "outputs": [],
      "source": []
    },
    {
      "cell_type": "markdown",
      "metadata": {
        "id": "3qIOUq5a9J-N"
      },
      "source": [
        "# Train_Test"
      ]
    },
    {
      "cell_type": "code",
      "execution_count": null,
      "metadata": {
        "colab": {
          "base_uri": "https://localhost:8080/"
        },
        "id": "Fg5L59yT9Ij2",
        "outputId": "d479ca2f-d698-4f47-c594-e8bb3d7c531d"
      },
      "outputs": [
        {
          "output_type": "stream",
          "name": "stdout",
          "text": [
            "137 12\n"
          ]
        }
      ],
      "source": [
        "train_size = int(len(dtf) -12)\n",
        "test_size = len(dtf) - train_size\n",
        "\n",
        "train, test = dtf.iloc[0:train_size], dtf.iloc[train_size:len(dtf)]\n",
        "print(len(train), len(test))"
      ]
    },
    {
      "cell_type": "code",
      "execution_count": null,
      "metadata": {
        "colab": {
          "base_uri": "https://localhost:8080/"
        },
        "id": "RoAj4ik7BqBO",
        "outputId": "0562a7e8-d2aa-4257-8521-b21dd1e49f2b"
      },
      "outputs": [
        {
          "output_type": "execute_result",
          "data": {
            "text/plain": [
              "((137, 5), (12, 5))"
            ]
          },
          "metadata": {},
          "execution_count": 22
        }
      ],
      "source": [
        "train.shape, test.shape"
      ]
    },
    {
      "cell_type": "code",
      "execution_count": null,
      "metadata": {
        "colab": {
          "base_uri": "https://localhost:8080/"
        },
        "id": "CjLsKttF94_S",
        "outputId": "0fc94055-4222-4c34-f9b9-ed1b6661fe08"
      },
      "outputs": [
        {
          "output_type": "execute_result",
          "data": {
            "text/plain": [
              "Index(['Otomotiv Satis', 'OTV Orani', 'Faiz', 'EUR/TL', 'Kredi Stok'], dtype='object')"
            ]
          },
          "metadata": {},
          "execution_count": 23
        }
      ],
      "source": [
        "dtf.columns"
      ]
    },
    {
      "cell_type": "markdown",
      "metadata": {
        "id": "Dq1QEDti9xmA"
      },
      "source": [
        "#Scalling"
      ]
    },
    {
      "cell_type": "code",
      "execution_count": null,
      "metadata": {
        "id": "TINsXg6G9IXE"
      },
      "outputs": [],
      "source": [
        "from sklearn.preprocessing import RobustScaler"
      ]
    },
    {
      "cell_type": "code",
      "execution_count": null,
      "metadata": {
        "id": "cnXrdl3iwVh_"
      },
      "outputs": [],
      "source": [
        "f_columns = ['OTV Orani', 'Faiz', 'EUR/TL', 'Kredi Stok']\n",
        "\n",
        "f_transformer = RobustScaler()\n",
        "cnt_transformer = RobustScaler()\n",
        "\n",
        "f_transformer = f_transformer.fit(train[f_columns].to_numpy())\n",
        "cnt_transformer = cnt_transformer.fit(train[['Otomotiv Satis']])\n",
        "\n",
        "train.loc[:, f_columns] = f_transformer.transform(train[f_columns].to_numpy())\n",
        "train['Otomotiv Satis'] = cnt_transformer.transform(train[['Otomotiv Satis']])\n",
        "\n",
        "test.loc[:, f_columns] = f_transformer.transform(test[f_columns].to_numpy())\n",
        "test['Otomotiv Satis'] = cnt_transformer.transform(test[['Otomotiv Satis']])"
      ]
    },
    {
      "cell_type": "code",
      "execution_count": null,
      "metadata": {
        "id": "eF_9p1tM-RyI"
      },
      "outputs": [],
      "source": [
        "def create_dataset(X, y, time_steps=7):\n",
        "    \"\"\" Create data sequence\n",
        "    \n",
        "    Arguments:\n",
        "        * X: time-series data\n",
        "        * y: Count \"Otomotiv Satis\" value\n",
        "        * time_steps: Used to create input sequence of timesteps\n",
        "    \n",
        "    Returns:\n",
        "        * input_sequence: Numpy array of sequences of time-series data\n",
        "        * output: Numpy array of output i.e. next value for respective sequence\n",
        "    \n",
        "    \"\"\"\n",
        "    Xs, ys = [], []\n",
        "    for i in range(len(X) - time_steps):\n",
        "        v = X.iloc[i:(i + time_steps)].values\n",
        "        Xs.append(v)        \n",
        "        ys.append(y.iloc[i + time_steps])\n",
        "    return np.array(Xs), np.array(ys)\n",
        "   "
      ]
    },
    {
      "cell_type": "code",
      "execution_count": null,
      "metadata": {
        "id": "F4rEjKSSXo5j"
      },
      "outputs": [],
      "source": [
        "# generator i ekle "
      ]
    },
    {
      "cell_type": "code",
      "execution_count": null,
      "metadata": {
        "colab": {
          "base_uri": "https://localhost:8080/"
        },
        "id": "eTspvHZki8p2",
        "outputId": "25f4d294-6ae0-48bd-a969-a7aeb457c6ad"
      },
      "outputs": [
        {
          "output_type": "execute_result",
          "data": {
            "text/plain": [
              "Index(['Otomotiv Satis', 'OTV Orani', 'Faiz', 'EUR/TL', 'Kredi Stok'], dtype='object')"
            ]
          },
          "metadata": {},
          "execution_count": 28
        }
      ],
      "source": [
        "train.columns"
      ]
    },
    {
      "cell_type": "code",
      "execution_count": null,
      "metadata": {
        "colab": {
          "base_uri": "https://localhost:8080/",
          "height": 457
        },
        "id": "RnvD4kcjkt8c",
        "outputId": "548850e5-c371-4381-95cf-f7f0c34dcdd6"
      },
      "outputs": [
        {
          "output_type": "execute_result",
          "data": {
            "text/plain": [
              "            Otomotiv Satis  OTV Orani      Faiz    EUR/TL  Kredi Stok\n",
              "Date                                                                 \n",
              "2021-06-01        0.515504        2.0  2.300986  2.270761    1.500139\n",
              "2021-07-01       -0.527972        2.0  2.363380  2.214322    1.489419\n",
              "2021-08-01       -0.181833        2.0  2.234085  2.146906    1.509771\n",
              "2021-09-01       -0.224688        2.0  2.101690  2.162756    1.574267\n",
              "2021-10-01       -0.237581        2.0  1.934085  2.343295    1.673923\n",
              "2021-11-01       -0.124323        2.0  2.139014  2.787762    1.960067\n",
              "2021-12-01       -0.058163        2.0  3.087324  3.821066    2.111864\n",
              "2022-01-01       -0.845160        4.0  4.052394  3.829015    2.158637\n",
              "2022-02-01       -0.469123        4.0  3.658732  3.869168    2.176915\n",
              "2022-03-01        0.007899        4.0  3.248169  4.061099    2.156746\n",
              "2022-04-01       -0.130230        4.0  3.086761  4.023342    2.171671\n",
              "2022-05-01        0.037274        5.0  2.912254  4.212127    2.202805"
            ],
            "text/html": [
              "\n",
              "  <div id=\"df-14424db0-9e2e-4860-9c95-0a847c3ff287\">\n",
              "    <div class=\"colab-df-container\">\n",
              "      <div>\n",
              "<style scoped>\n",
              "    .dataframe tbody tr th:only-of-type {\n",
              "        vertical-align: middle;\n",
              "    }\n",
              "\n",
              "    .dataframe tbody tr th {\n",
              "        vertical-align: top;\n",
              "    }\n",
              "\n",
              "    .dataframe thead th {\n",
              "        text-align: right;\n",
              "    }\n",
              "</style>\n",
              "<table border=\"1\" class=\"dataframe\">\n",
              "  <thead>\n",
              "    <tr style=\"text-align: right;\">\n",
              "      <th></th>\n",
              "      <th>Otomotiv Satis</th>\n",
              "      <th>OTV Orani</th>\n",
              "      <th>Faiz</th>\n",
              "      <th>EUR/TL</th>\n",
              "      <th>Kredi Stok</th>\n",
              "    </tr>\n",
              "    <tr>\n",
              "      <th>Date</th>\n",
              "      <th></th>\n",
              "      <th></th>\n",
              "      <th></th>\n",
              "      <th></th>\n",
              "      <th></th>\n",
              "    </tr>\n",
              "  </thead>\n",
              "  <tbody>\n",
              "    <tr>\n",
              "      <th>2021-06-01</th>\n",
              "      <td>0.515504</td>\n",
              "      <td>2.0</td>\n",
              "      <td>2.300986</td>\n",
              "      <td>2.270761</td>\n",
              "      <td>1.500139</td>\n",
              "    </tr>\n",
              "    <tr>\n",
              "      <th>2021-07-01</th>\n",
              "      <td>-0.527972</td>\n",
              "      <td>2.0</td>\n",
              "      <td>2.363380</td>\n",
              "      <td>2.214322</td>\n",
              "      <td>1.489419</td>\n",
              "    </tr>\n",
              "    <tr>\n",
              "      <th>2021-08-01</th>\n",
              "      <td>-0.181833</td>\n",
              "      <td>2.0</td>\n",
              "      <td>2.234085</td>\n",
              "      <td>2.146906</td>\n",
              "      <td>1.509771</td>\n",
              "    </tr>\n",
              "    <tr>\n",
              "      <th>2021-09-01</th>\n",
              "      <td>-0.224688</td>\n",
              "      <td>2.0</td>\n",
              "      <td>2.101690</td>\n",
              "      <td>2.162756</td>\n",
              "      <td>1.574267</td>\n",
              "    </tr>\n",
              "    <tr>\n",
              "      <th>2021-10-01</th>\n",
              "      <td>-0.237581</td>\n",
              "      <td>2.0</td>\n",
              "      <td>1.934085</td>\n",
              "      <td>2.343295</td>\n",
              "      <td>1.673923</td>\n",
              "    </tr>\n",
              "    <tr>\n",
              "      <th>2021-11-01</th>\n",
              "      <td>-0.124323</td>\n",
              "      <td>2.0</td>\n",
              "      <td>2.139014</td>\n",
              "      <td>2.787762</td>\n",
              "      <td>1.960067</td>\n",
              "    </tr>\n",
              "    <tr>\n",
              "      <th>2021-12-01</th>\n",
              "      <td>-0.058163</td>\n",
              "      <td>2.0</td>\n",
              "      <td>3.087324</td>\n",
              "      <td>3.821066</td>\n",
              "      <td>2.111864</td>\n",
              "    </tr>\n",
              "    <tr>\n",
              "      <th>2022-01-01</th>\n",
              "      <td>-0.845160</td>\n",
              "      <td>4.0</td>\n",
              "      <td>4.052394</td>\n",
              "      <td>3.829015</td>\n",
              "      <td>2.158637</td>\n",
              "    </tr>\n",
              "    <tr>\n",
              "      <th>2022-02-01</th>\n",
              "      <td>-0.469123</td>\n",
              "      <td>4.0</td>\n",
              "      <td>3.658732</td>\n",
              "      <td>3.869168</td>\n",
              "      <td>2.176915</td>\n",
              "    </tr>\n",
              "    <tr>\n",
              "      <th>2022-03-01</th>\n",
              "      <td>0.007899</td>\n",
              "      <td>4.0</td>\n",
              "      <td>3.248169</td>\n",
              "      <td>4.061099</td>\n",
              "      <td>2.156746</td>\n",
              "    </tr>\n",
              "    <tr>\n",
              "      <th>2022-04-01</th>\n",
              "      <td>-0.130230</td>\n",
              "      <td>4.0</td>\n",
              "      <td>3.086761</td>\n",
              "      <td>4.023342</td>\n",
              "      <td>2.171671</td>\n",
              "    </tr>\n",
              "    <tr>\n",
              "      <th>2022-05-01</th>\n",
              "      <td>0.037274</td>\n",
              "      <td>5.0</td>\n",
              "      <td>2.912254</td>\n",
              "      <td>4.212127</td>\n",
              "      <td>2.202805</td>\n",
              "    </tr>\n",
              "  </tbody>\n",
              "</table>\n",
              "</div>\n",
              "      <button class=\"colab-df-convert\" onclick=\"convertToInteractive('df-14424db0-9e2e-4860-9c95-0a847c3ff287')\"\n",
              "              title=\"Convert this dataframe to an interactive table.\"\n",
              "              style=\"display:none;\">\n",
              "        \n",
              "  <svg xmlns=\"http://www.w3.org/2000/svg\" height=\"24px\"viewBox=\"0 0 24 24\"\n",
              "       width=\"24px\">\n",
              "    <path d=\"M0 0h24v24H0V0z\" fill=\"none\"/>\n",
              "    <path d=\"M18.56 5.44l.94 2.06.94-2.06 2.06-.94-2.06-.94-.94-2.06-.94 2.06-2.06.94zm-11 1L8.5 8.5l.94-2.06 2.06-.94-2.06-.94L8.5 2.5l-.94 2.06-2.06.94zm10 10l.94 2.06.94-2.06 2.06-.94-2.06-.94-.94-2.06-.94 2.06-2.06.94z\"/><path d=\"M17.41 7.96l-1.37-1.37c-.4-.4-.92-.59-1.43-.59-.52 0-1.04.2-1.43.59L10.3 9.45l-7.72 7.72c-.78.78-.78 2.05 0 2.83L4 21.41c.39.39.9.59 1.41.59.51 0 1.02-.2 1.41-.59l7.78-7.78 2.81-2.81c.8-.78.8-2.07 0-2.86zM5.41 20L4 18.59l7.72-7.72 1.47 1.35L5.41 20z\"/>\n",
              "  </svg>\n",
              "      </button>\n",
              "      \n",
              "  <style>\n",
              "    .colab-df-container {\n",
              "      display:flex;\n",
              "      flex-wrap:wrap;\n",
              "      gap: 12px;\n",
              "    }\n",
              "\n",
              "    .colab-df-convert {\n",
              "      background-color: #E8F0FE;\n",
              "      border: none;\n",
              "      border-radius: 50%;\n",
              "      cursor: pointer;\n",
              "      display: none;\n",
              "      fill: #1967D2;\n",
              "      height: 32px;\n",
              "      padding: 0 0 0 0;\n",
              "      width: 32px;\n",
              "    }\n",
              "\n",
              "    .colab-df-convert:hover {\n",
              "      background-color: #E2EBFA;\n",
              "      box-shadow: 0px 1px 2px rgba(60, 64, 67, 0.3), 0px 1px 3px 1px rgba(60, 64, 67, 0.15);\n",
              "      fill: #174EA6;\n",
              "    }\n",
              "\n",
              "    [theme=dark] .colab-df-convert {\n",
              "      background-color: #3B4455;\n",
              "      fill: #D2E3FC;\n",
              "    }\n",
              "\n",
              "    [theme=dark] .colab-df-convert:hover {\n",
              "      background-color: #434B5C;\n",
              "      box-shadow: 0px 1px 3px 1px rgba(0, 0, 0, 0.15);\n",
              "      filter: drop-shadow(0px 1px 2px rgba(0, 0, 0, 0.3));\n",
              "      fill: #FFFFFF;\n",
              "    }\n",
              "  </style>\n",
              "\n",
              "      <script>\n",
              "        const buttonEl =\n",
              "          document.querySelector('#df-14424db0-9e2e-4860-9c95-0a847c3ff287 button.colab-df-convert');\n",
              "        buttonEl.style.display =\n",
              "          google.colab.kernel.accessAllowed ? 'block' : 'none';\n",
              "\n",
              "        async function convertToInteractive(key) {\n",
              "          const element = document.querySelector('#df-14424db0-9e2e-4860-9c95-0a847c3ff287');\n",
              "          const dataTable =\n",
              "            await google.colab.kernel.invokeFunction('convertToInteractive',\n",
              "                                                     [key], {});\n",
              "          if (!dataTable) return;\n",
              "\n",
              "          const docLinkHtml = 'Like what you see? Visit the ' +\n",
              "            '<a target=\"_blank\" href=https://colab.research.google.com/notebooks/data_table.ipynb>data table notebook</a>'\n",
              "            + ' to learn more about interactive tables.';\n",
              "          element.innerHTML = '';\n",
              "          dataTable['output_type'] = 'display_data';\n",
              "          await google.colab.output.renderOutput(dataTable, element);\n",
              "          const docLink = document.createElement('div');\n",
              "          docLink.innerHTML = docLinkHtml;\n",
              "          element.appendChild(docLink);\n",
              "        }\n",
              "      </script>\n",
              "    </div>\n",
              "  </div>\n",
              "  "
            ]
          },
          "metadata": {},
          "execution_count": 31
        }
      ],
      "source": [
        "test"
      ]
    },
    {
      "cell_type": "code",
      "execution_count": null,
      "metadata": {
        "colab": {
          "base_uri": "https://localhost:8080/",
          "height": 165
        },
        "id": "pXr6ANXblBEG",
        "outputId": "45edd3f3-3820-437c-ae3d-af356db5d0f2"
      },
      "outputs": [
        {
          "output_type": "error",
          "ename": "NameError",
          "evalue": "ignored",
          "traceback": [
            "\u001b[0;31m---------------------------------------------------------------------------\u001b[0m",
            "\u001b[0;31mNameError\u001b[0m                                 Traceback (most recent call last)",
            "\u001b[0;32m<ipython-input-30-931765772341>\u001b[0m in \u001b[0;36m<module>\u001b[0;34m\u001b[0m\n\u001b[0;32m----> 1\u001b[0;31m \u001b[0mX_train\u001b[0m\u001b[0;34m\u001b[0m\u001b[0;34m\u001b[0m\u001b[0m\n\u001b[0m",
            "\u001b[0;31mNameError\u001b[0m: name 'X_train' is not defined"
          ]
        }
      ],
      "source": [
        "X_train"
      ]
    },
    {
      "cell_type": "code",
      "execution_count": null,
      "metadata": {
        "id": "TMUqbpD5-RvN"
      },
      "outputs": [],
      "source": [
        "time_steps = 11\n",
        "\n",
        "# reshape to [samples, time_steps, n_features]\n",
        "\n",
        "X_train, y_train = create_dataset(train, train[\"Otomotiv Satis\"], time_steps)\n",
        "X_test, y_test = create_dataset(test, test[\"Otomotiv Satis\"], time_steps)\n",
        "\n",
        "print(X_train.shape, y_train.shape)"
      ]
    },
    {
      "cell_type": "code",
      "execution_count": null,
      "metadata": {
        "id": "RW8_51CQ-RsA"
      },
      "outputs": [],
      "source": [
        "X_test"
      ]
    },
    {
      "cell_type": "code",
      "execution_count": null,
      "metadata": {
        "id": "XRTLyCNgYRFn"
      },
      "outputs": [],
      "source": [
        "dtf.shape"
      ]
    },
    {
      "cell_type": "markdown",
      "metadata": {
        "id": "o_8fzDeYYjKV"
      },
      "source": [
        "# son 12 isin icine katma onlar tahmin etcegin yer \n",
        "dataframeden sil 20 test ayir son 12 test ayir. step 12 \n"
      ]
    },
    {
      "cell_type": "code",
      "execution_count": null,
      "metadata": {
        "id": "6gETosJaYXpf"
      },
      "outputs": [],
      "source": [
        "dtf.tail()"
      ]
    },
    {
      "cell_type": "code",
      "execution_count": null,
      "metadata": {
        "id": "q2VPa7Ei-Rog"
      },
      "outputs": [],
      "source": [
        "X_train"
      ]
    },
    {
      "cell_type": "markdown",
      "metadata": {
        "id": "d0nOLmB7x5WU"
      },
      "source": [
        "#RNN"
      ]
    },
    {
      "cell_type": "code",
      "execution_count": null,
      "metadata": {
        "id": "FgnBhjPbwVe8"
      },
      "outputs": [],
      "source": [
        "from tensorflow.keras.models import Sequential\n",
        "from tensorflow.keras.layers import Dense, LSTM, Bidirectional, Dropout\n",
        "from tensorflow.keras.callbacks import EarlyStopping"
      ]
    },
    {
      "cell_type": "code",
      "execution_count": null,
      "metadata": {
        "id": "nBtYgPGC_PFi"
      },
      "outputs": [],
      "source": [
        "n_features =  X_train.shape[2]"
      ]
    },
    {
      "cell_type": "code",
      "execution_count": null,
      "metadata": {
        "id": "TDWxOrzd_PCe"
      },
      "outputs": [],
      "source": [
        "model = Sequential()\n",
        "\n",
        "model.add(Bidirectional(LSTM(units=128)))\n",
        "model.add(Bidirectional(LSTM(units=128)))\n",
        "\n",
        "# model.add(Dropout(rate=0.2)) \n",
        "\n",
        "model.add(Dense(units=1))\n",
        "\n",
        "model.compile(optimizer='adam', loss='mse')"
      ]
    },
    {
      "cell_type": "code",
      "execution_count": null,
      "metadata": {
        "id": "52c9J6Ok_O_E"
      },
      "outputs": [],
      "source": [
        "early_stop = EarlyStopping(monitor = 'loss', patience = 5, restore_best_weights=True)"
      ]
    },
    {
      "cell_type": "code",
      "execution_count": null,
      "metadata": {
        "id": "nGcHpurJhQt_"
      },
      "outputs": [],
      "source": [
        "X_train"
      ]
    },
    {
      "cell_type": "code",
      "execution_count": null,
      "metadata": {
        "id": "97YwN-R2hTfI"
      },
      "outputs": [],
      "source": [
        "y_train"
      ]
    },
    {
      "cell_type": "code",
      "execution_count": null,
      "metadata": {
        "id": "6CVYwuTJifE1"
      },
      "outputs": [],
      "source": [
        "type(model)"
      ]
    },
    {
      "cell_type": "code",
      "execution_count": null,
      "metadata": {
        "id": "iU8tALwF_O7d"
      },
      "outputs": [],
      "source": [
        "model.fit(X_train, y_train, \n",
        "          epochs=50, \n",
        "          batch_size=24, \n",
        "         # validation_split=0.3,\n",
        "          #shuffle=False,\n",
        "          callbacks=[early_stop])"
      ]
    },
    {
      "cell_type": "code",
      "execution_count": null,
      "metadata": {
        "id": "iSU44wi6ZgMv"
      },
      "outputs": [],
      "source": []
    },
    {
      "cell_type": "code",
      "execution_count": null,
      "metadata": {
        "id": "epS9A4Ou_ZoH"
      },
      "outputs": [],
      "source": [
        "model.summary()"
      ]
    },
    {
      "cell_type": "code",
      "execution_count": null,
      "metadata": {
        "id": "iy9GcQKP_ZkG"
      },
      "outputs": [],
      "source": [
        "loss_df = pd.DataFrame(model.history.history)\n",
        "loss_df.plot()"
      ]
    },
    {
      "cell_type": "code",
      "execution_count": null,
      "metadata": {
        "id": "KMWWmPFF_Zgf"
      },
      "outputs": [],
      "source": []
    },
    {
      "cell_type": "markdown",
      "metadata": {
        "id": "GQ6LRRaENbVS"
      },
      "source": [
        " #Evaluate on Test Data"
      ]
    },
    {
      "cell_type": "code",
      "execution_count": null,
      "metadata": {
        "id": "iKiXJms1PHGy"
      },
      "outputs": [],
      "source": [
        "test"
      ]
    },
    {
      "cell_type": "code",
      "execution_count": null,
      "metadata": {
        "id": "NbUUnc33NVxO"
      },
      "outputs": [],
      "source": [
        "y_pred = model.predict(X_test)"
      ]
    }
  ],
  "metadata": {
    "colab": {
      "provenance": [],
      "collapsed_sections": [
        "o_8fzDeYYjKV",
        "d0nOLmB7x5WU"
      ],
      "include_colab_link": true
    },
    "kernelspec": {
      "display_name": "Python 3",
      "name": "python3"
    },
    "language_info": {
      "name": "python"
    }
  },
  "nbformat": 4,
  "nbformat_minor": 0
}